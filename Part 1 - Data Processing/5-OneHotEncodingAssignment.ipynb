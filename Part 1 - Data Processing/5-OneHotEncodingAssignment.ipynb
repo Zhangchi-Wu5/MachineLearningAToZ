{
 "cells": [
  {
   "cell_type": "code",
   "id": "initial_id",
   "metadata": {
    "collapsed": true,
    "ExecuteTime": {
     "end_time": "2025-08-31T15:16:05.635800Z",
     "start_time": "2025-08-31T15:16:05.629171Z"
    }
   },
   "source": "# 独热编码实践作业 - 泰坦尼克数据集\n# 学习目标：在真实数据集上应用独热编码和标签编码\n# 数据集：泰坦尼克号乘客存活预测数据\n\n# 导入必要的库\nimport pandas as pd                              # 数据处理和分析\nimport numpy as np                               # 数值计算\nfrom sklearn.compose import ColumnTransformer    # 列转换器\nfrom sklearn.preprocessing import OneHotEncoder, LabelEncoder  # 编码器\n\nprint(\"=== 泰坦尼克数据集独热编码实践 ===\")",
   "outputs": [],
   "execution_count": null
  },
  {
   "metadata": {
    "ExecuteTime": {
     "end_time": "2025-08-31T15:16:06.060244Z",
     "start_time": "2025-08-31T15:16:06.046580Z"
    }
   },
   "cell_type": "code",
   "source": "# 步骤1：加载泰坦尼克数据集\nprint(\"=== 步骤1：数据加载与探索 ===\")\ndf = pd.read_csv('datasets/titanic.csv')\nprint(\"泰坦尼克数据集基本信息：\")\nprint(f\"数据形状：{df.shape}\")\nprint(f\"列名：{list(df.columns)}\")\nprint(\"\\n前5行数据：\")\nprint(df.head())\n\nprint(\"\\n数据集详细信息：\")\nprint(\"- PassengerId: 乘客ID\")\nprint(\"- Survived: 是否存活 (0=死亡, 1=存活)\")  \nprint(\"- Pclass: 票务等级 (1=一等, 2=二等, 3=三等)\")\nprint(\"- Name: 乘客姓名\")\nprint(\"- Sex: 性别 (male/female)\")\nprint(\"- Age: 年龄\")\nprint(\"- SibSp: 同行的兄弟姐妹/配偶数量\")\nprint(\"- Parch: 同行的父母/子女数量\") \nprint(\"- Ticket: 票号\")\nprint(\"- Fare: 票价\")\nprint(\"- Cabin: 客舱号\")\nprint(\"- Embarked: 登船港口 (C=Cherbourg, Q=Queenstown, S=Southampton)\")",
   "id": "c0e858f96b5cbe46",
   "outputs": [],
   "execution_count": null
  },
  {
   "metadata": {
    "ExecuteTime": {
     "end_time": "2025-08-31T15:16:06.775697Z",
     "start_time": "2025-08-31T15:16:06.767438Z"
    }
   },
   "cell_type": "code",
   "source": "# 步骤2：识别和选择需要编码的分类特征\nprint(\"=== 步骤2：选择分类特征进行编码 ===\")\ncategorical_features = ['Sex', 'Embarked', 'Pclass']\nneedEncodedMatrix = df[categorical_features]\n\nprint(\"需要进行独热编码的分类特征：\")\nprint(f\"特征列表：{categorical_features}\")\nprint(\"\\n选中的分类特征数据：\")\nprint(needEncodedMatrix)\n\nprint(\"\\n各分类特征的唯一值：\")\nfor feature in categorical_features:\n    unique_values = df[feature].unique()\n    print(f\"- {feature}: {unique_values} (共{len(unique_values)}个类别)\")\n\nprint(\"\\n为什么选择这些特征进行独热编码：\")\nprint(\"- Sex: 名义分类变量，male/female无大小关系\")\nprint(\"- Embarked: 名义分类变量，登船港口无大小关系\") \nprint(\"- Pclass: 虽然有序，但为了避免线性假设，使用独热编码\")",
   "id": "461fe58616635a4e",
   "outputs": [],
   "execution_count": null
  },
  {
   "metadata": {
    "ExecuteTime": {
     "end_time": "2025-08-31T15:16:08.937175Z",
     "start_time": "2025-08-31T15:16:08.934301Z"
    }
   },
   "cell_type": "code",
   "source": "# 步骤3：设置列转换器进行独热编码\nprint(\"=== 步骤3：配置独热编码器 ===\")\n\n# 创建列转换器\n# 注意：这里直接使用特征名称而不是索引\nct = ColumnTransformer(\n    transformers=[('encoder', OneHotEncoder(), categorical_features)],  # 对指定的分类特征进行编码\n    remainder='passthrough'  # 其余特征保持不变\n)\n\nprint(\"列转换器配置详情：\")\nprint(f\"- 编码特征: {categorical_features}\")\nprint(\"- 编码方法: OneHotEncoder\")\nprint(\"- 其余特征: 保持原样(passthrough)\")\n\nprint(\"\\n预期编码结果：\")\nprint(\"- Sex: 2个类别 → 2列 (female, male)\")\nprint(\"- Embarked: 3个类别 → 3列 (C, Q, S)\")  \nprint(\"- Pclass: 3个类别 → 3列 (1, 2, 3)\")\nprint(\"- 其余9个特征保持不变\")\nprint(\"- 总特征数: 2+3+3+9 = 17列\")",
   "id": "815aa88272a8eeaf",
   "outputs": [],
   "execution_count": null
  },
  {
   "metadata": {
    "ExecuteTime": {
     "end_time": "2025-08-31T15:16:10.492316Z",
     "start_time": "2025-08-31T15:16:10.481209Z"
    }
   },
   "cell_type": "code",
   "source": "# 步骤4：应用独热编码转换\nprint(\"=== 步骤4：执行独热编码转换 ===\")\n\n# 对整个数据集应用转换\nX = ct.fit_transform(df)\n\nprint(\"独热编码转换完成！\")\nprint(f\"原始特征数量: {df.shape[1]}\")\nprint(f\"编码后特征数量: {X.shape[1]}\")\nprint(f\"数据类型: {type(X)}\")\n\nprint(\"\\n编码后的特征矩阵 (前5行):\")\nprint(X[:5])\n\nprint(\"\\n特征列的顺序说明：\")\nprint(\"前8列是编码后的分类特征：\")\nprint(\"- 列 0-1: Sex编码 (female, male)\")  \nprint(\"- 列 2-4: Embarked编码 (C, Q, S)\")\nprint(\"- 列 5-7: Pclass编码 (1, 2, 3)\")\nprint(\"后面的列是原始数值特征和其他未编码特征\")\n\n# 转换为NumPy数组（如果还不是的话）\nX = np.array(X)\nprint(f\"\\n确保为NumPy数组格式: {type(X)}\")",
   "id": "17b62f6718d549d4",
   "outputs": [],
   "execution_count": null
  },
  {
   "metadata": {
    "ExecuteTime": {
     "end_time": "2025-08-31T15:16:19.975692Z",
     "start_time": "2025-08-31T15:16:19.973691Z"
    }
   },
   "cell_type": "code",
   "source": "# 删除这个多余的单元格，因为上面已经处理了\n# 这个单元格是重复的NumPy转换",
   "id": "2578042fbcc2f234",
   "outputs": [],
   "execution_count": null
  },
  {
   "metadata": {
    "ExecuteTime": {
     "end_time": "2025-08-31T15:16:41.782970Z",
     "start_time": "2025-08-31T15:16:41.780126Z"
    }
   },
   "cell_type": "code",
   "source": "# 步骤5：处理目标变量 - 使用标签编码\nprint(\"=== 步骤5：目标变量编码 ===\")\n\n# 对二分类目标变量使用标签编码\nle = LabelEncoder()\ny = le.fit_transform(df['Survived'])\n\nprint(\"目标变量编码详情：\")\nprint(\"- 原始列名: 'Survived'\") \nprint(\"- 原始值: 0(死亡), 1(存活)\")\nprint(\"- 编码方法: LabelEncoder\")\nprint(\"- 编码后值: 保持不变 (因为已经是0/1)\")\n\nprint(f\"\\n编码后的目标变量形状: {y.shape}\")\nprint(\"目标变量前10个值:\", y[:10])",
   "id": "a670d7982033ccdb",
   "outputs": [],
   "execution_count": null
  },
  {
   "metadata": {
    "ExecuteTime": {
     "end_time": "2025-08-31T15:16:50.660455Z",
     "start_time": "2025-08-31T15:16:50.658150Z"
    }
   },
   "cell_type": "code",
   "source": "# 步骤6：验证编码结果\nprint(\"=== 步骤6：编码结果验证 ===\")\nprint(\"完整的目标变量 y:\")\nprint(y)\n\nprint(f\"\\n数据统计:\")\nprint(f\"- 样本总数: {len(y)}\")\nprint(f\"- 存活人数 (1): {sum(y)}\")  \nprint(f\"- 死亡人数 (0): {len(y) - sum(y)}\")\nprint(f\"- 存活率: {sum(y)/len(y):.2%}\")\n\nprint(\"\\n=== 编码完成总结 ===\")\nprint(f\"✓ 特征矩阵 X: {X.shape} (样本数 x 特征数)\")\nprint(f\"✓ 目标变量 y: {y.shape} (样本数,)\")\nprint(\"✓ 分类特征已成功转换为数值格式\")\nprint(\"✓ 数据已准备好进行机器学习建模\")",
   "id": "7adf11cf9e31cf6c",
   "outputs": [],
   "execution_count": null
  },
  {
   "metadata": {},
   "cell_type": "code",
   "outputs": [],
   "execution_count": null,
   "source": "# 查看标签编码器的类别映射\nprint(\"=== 标签编码器详细信息 ===\")\nprint(\"标签编码器的类别映射:\")\nprint(f\"类别: {le.classes_}\")\nprint(\"说明: LabelEncoder将类别按字母顺序排序并分配数值\")\n\nprint(\"\\n=== 学习总结 ===\") \nprint(\"通过这个实践，我们学会了：\")\nprint(\"1. 使用ColumnTransformer对多个分类特征进行独热编码\")\nprint(\"2. 使用LabelEncoder对目标变量进行标签编码\")\nprint(\"3. 处理真实世界数据集中的多种分类变量\")\nprint(\"4. 验证编码结果的正确性\")\nprint(\"\\n独热编码 vs 标签编码的选择：\")\nprint(\"- 独热编码：用于名义分类变量（无顺序关系）\")  \nprint(\"- 标签编码：用于有序分类变量或二分类目标变量\")",
   "id": "592fe082f45f9506"
  }
 ],
 "metadata": {
  "kernelspec": {
   "display_name": "Python 3",
   "language": "python",
   "name": "python3"
  },
  "language_info": {
   "codemirror_mode": {
    "name": "ipython",
    "version": 2
   },
   "file_extension": ".py",
   "mimetype": "text/x-python",
   "name": "python",
   "nbconvert_exporter": "python",
   "pygments_lexer": "ipython2",
   "version": "2.7.6"
  }
 },
 "nbformat": 4,
 "nbformat_minor": 5
}