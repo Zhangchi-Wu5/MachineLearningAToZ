{
 "cells": [
  {
   "cell_type": "code",
   "id": "initial_id",
   "metadata": {
    "ExecuteTime": {
     "end_time": "2025-08-31T04:21:02.658575Z",
     "start_time": "2025-08-31T04:21:02.655301Z"
    }
   },
   "source": "# 导入必要的库\nimport pandas as pd              # 数据处理和分析\nimport numpy as np               # 数值计算\n\nprint(\"=== 独热编码实践教程 ===\")",
   "outputs": [],
   "execution_count": null
  },
  {
   "cell_type": "code",
   "id": "da0bd12703d5c600",
   "metadata": {
    "ExecuteTime": {
     "end_time": "2025-08-31T04:21:03.203440Z",
     "start_time": "2025-08-31T04:21:03.191220Z"
    }
   },
   "source": "# 步骤1：加载和检查数据\ndatasets = pd.read_csv('datasets/Data.csv')\nprint(\"=== 原始数据集 ===\")\nprint(datasets)\nprint(f\"\\n数据形状: {datasets.shape}\")\nprint(f\"\\n数据类型:\")\nprint(datasets.dtypes)\nprint(f\"\\n分类变量'Country'的唯一值: {datasets['Country'].unique()}\")",
   "outputs": [],
   "execution_count": null
  },
  {
   "metadata": {
    "ExecuteTime": {
     "end_time": "2025-08-31T04:21:03.652042Z",
     "start_time": "2025-08-31T04:21:03.648022Z"
    }
   },
   "cell_type": "code",
   "source": "# 步骤2：分离特征和目标变量\nprint(\"=== 分离特征和目标变量 ===\")\nX = datasets.iloc[:, :-1].values # 特征矩阵：所有行，除最后一列\ny = datasets.iloc[:, -1].values  # 目标变量：最后一列\n\nprint(\"特征矩阵 X (编码前):\")\nprint(X)\nprint(f\"特征矩阵形状: {X.shape}\")\nprint(\"\\n目标变量 y:\")\nprint(y)",
   "id": "f83512e1e47f9a91",
   "outputs": [],
   "execution_count": null
  },
  {
   "metadata": {
    "ExecuteTime": {
     "end_time": "2025-08-31T04:21:03.937594Z",
     "start_time": "2025-08-31T04:21:03.934738Z"
    }
   },
   "cell_type": "code",
   "source": "print (X)",
   "id": "7a0d216d423414e1",
   "outputs": [
    {
     "name": "stdout",
     "output_type": "stream",
     "text": [
      "[['France' 44.0 72000.0]\n",
      " ['Spain' 27.0 48000.0]\n",
      " ['Germany' 30.0 54000.0]\n",
      " ['Spain' 38.0 61000.0]\n",
      " ['Germany' 40.0 nan]\n",
      " ['France' 35.0 58000.0]\n",
      " ['Spain' nan 52000.0]\n",
      " ['France' 48.0 79000.0]\n",
      " ['Germany' 50.0 83000.0]\n",
      " ['France' 37.0 67000.0]]\n"
     ]
    }
   ],
   "execution_count": 22
  },
  {
   "metadata": {
    "ExecuteTime": {
     "end_time": "2025-08-31T04:21:04.593142Z",
     "start_time": "2025-08-31T04:21:04.589692Z"
    }
   },
   "cell_type": "code",
   "source": "print(y)",
   "id": "80df47a3a9428cfe",
   "outputs": [
    {
     "name": "stdout",
     "output_type": "stream",
     "text": [
      "['No' 'Yes' 'No' 'No' 'Yes' 'Yes' 'No' 'Yes' 'No' 'Yes']\n"
     ]
    }
   ],
   "execution_count": 23
  },
  {
   "cell_type": "markdown",
   "id": "fb7e1a8a-d757-40cf-9f30-ad5351902eeb",
   "metadata": {},
   "source": "# 独热编码（One-Hot Encoding）学习笔记\n## 目标：学习如何处理分类变量，理解独热编码的原理和应用\n\n在机器学习中，大多数算法都需要数值输入。当我们有分类变量（如国家、颜色等）时，需要将它们转换为数值形式。独热编码是处理名义分类变量的标准方法。\n\n### 什么是独热编码？\n- 将分类变量转换为二进制向量\n- 每个类别对应一个二进制特征\n- 只有对应的特征为1，其余为0\n\n### 为什么需要独热编码？\n- 避免算法错误解释分类变量的数值关系\n- 防止虚拟变量陷阱（Dummy Variable Trap）"
  },
  {
   "cell_type": "code",
   "id": "fd648ecb-59a6-415f-a15f-353db9603e25",
   "metadata": {
    "ExecuteTime": {
     "end_time": "2025-08-31T04:21:05.723839Z",
     "start_time": "2025-08-31T04:21:05.719891Z"
    }
   },
   "source": "# 导入独热编码所需的库\nfrom sklearn.compose import ColumnTransformer      # 列转换器\nfrom sklearn.preprocessing import OneHotEncoder     # 独热编码器\n\nprint(\"=== 设置独热编码器 ===\")\n# 创建列转换器\n# transformers: [('名称', 转换器, 列索引)]\n# 'encoder': 转换器名称  \n# OneHotEncoder(): 独热编码器实例\n# [0]: 要编码的列索引（第0列是Country）\n# remainder='passthrough': 其他列保持不变\nct = ColumnTransformer(transformers=[('encoder', OneHotEncoder(), [0])], remainder='passthrough')\n\nprint(\"列转换器配置:\")\nprint(\"- 对第0列(Country)应用独热编码\")\nprint(\"- 其余列(Age, Salary)保持不变\")",
   "outputs": [],
   "execution_count": null
  },
  {
   "cell_type": "code",
   "id": "24c55df3-5e4c-457a-87c1-54f5d597dd4f",
   "metadata": {
    "ExecuteTime": {
     "end_time": "2025-08-31T04:21:06.324402Z",
     "start_time": "2025-08-31T04:21:06.318445Z"
    }
   },
   "source": "# 步骤3：应用独热编码\nprint(\"=== 应用独热编码转换 ===\")\n\n# fit_transform: 拟合数据并应用转换\n# np.array: 强制转换为NumPy数组格式\nX_encoded = ct.fit_transform(X)\nX = np.array(X_encoded)\n\nprint(\"独热编码后的特征矩阵 X:\")\nprint(X)\nprint(f\"编码后形状: {X.shape}\")\n\nprint(\"\\n=== 编码结果解释 ===\")\nprint(\"原始Country列有3个类别:\", datasets['Country'].unique())\nprint(\"编码后的前3列表示:\")\nprint(\"- 列0: France   (1=是法国, 0=不是)\")\nprint(\"- 列1: Germany  (1=是德国, 0=不是)\")  \nprint(\"- 列2: Spain    (1=是西班牙, 0=不是)\")\nprint(\"- 列3: Age      (原始年龄数据)\")\nprint(\"- 列4: Salary   (原始薪资数据)\")\n\nprint(\"\\n注意：OneHotEncoder自动处理虚拟变量陷阱，保留所有编码列\")",
   "outputs": [],
   "execution_count": null
  },
  {
   "metadata": {},
   "cell_type": "code",
   "outputs": [],
   "execution_count": null,
   "source": "",
   "id": "1eabea63fdff562e"
  }
 ],
 "metadata": {
  "kernelspec": {
   "display_name": "Python 3 (ipykernel)",
   "language": "python",
   "name": "python3"
  },
  "language_info": {
   "codemirror_mode": {
    "name": "ipython",
    "version": 3
   },
   "file_extension": ".py",
   "mimetype": "text/x-python",
   "name": "python",
   "nbconvert_exporter": "python",
   "pygments_lexer": "ipython3",
   "version": "3.9.6"
  }
 },
 "nbformat": 4,
 "nbformat_minor": 5
}