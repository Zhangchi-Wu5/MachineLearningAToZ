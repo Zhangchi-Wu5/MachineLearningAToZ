{
 "cells": [
  {
   "cell_type": "code",
   "id": "gzklzjn2n0j",
   "source": "# 步骤3：处理缺失数据\nprint(\"=== 步骤3：使用SimpleImputer处理缺失值 ===\")\n\n# 创建SimpleImputer对象\n# missing_values=np.nan: 指定要替换的缺失值类型（NaN）\n# strategy='mean': 使用平均值策略填充缺失值\nimputer = SimpleImputer(missing_values=np.nan, strategy='mean')\nprint(\"填充策略：使用平均值（mean）填充数值型缺失值\")\n\n# 拟合并转换数据\n# 注意：只对数值列（第1列Age和第2列Salary）进行处理\nprint(\"\\n对Age和Salary列应用缺失值填充...\")\nimputer.fit(X[:, 1:3])  # 拟合第1列和第2列（Age和Salary）\nX[:, 1:3] = imputer.transform(X[:, 1:3])  # 转换并替换缺失值\n\nprint(\"处理后的特征矩阵 X：\")\nprint(X)\n\n# 验证处理结果\nprint(\"\\n=== 处理结果验证 ===\")\nprint(\"转换后的DataFrame（用于验证）：\")\nresult_df = pd.DataFrame(X, columns=['Country', 'Age', 'Salary'])\nprint(result_df)\nprint(f\"缺失值是否全部处理：{not result_df.isnull().any().any()}\")",
   "metadata": {},
   "execution_count": null,
   "outputs": []
  },
  {
   "cell_type": "code",
   "id": "dasdmifl6qb",
   "source": "# 步骤2：分离特征和目标变量\nprint(\"=== 步骤2：分离特征和目标变量 ===\")\nX = dataset.iloc[:, :-1].values  # 特征矩阵：所有行，除最后一列外的所有列\ny = dataset.iloc[:, -1].values   # 目标变量：所有行，最后一列\n\nprint(\"特征矩阵 X（处理前）：\")\nprint(X)\nprint(\"目标变量 y：\")\nprint(y)",
   "metadata": {},
   "execution_count": null,
   "outputs": []
  },
  {
   "cell_type": "code",
   "id": "08fclmf5024c",
   "source": "# 步骤1：加载并检查数据集\nprint(\"=== 步骤1：加载数据集 ===\")\ndataset = pd.read_csv('datasets/Data.csv')\nprint(\"原始数据集：\")\nprint(dataset)\nprint(f\"\\n数据集形状：{dataset.shape}\")\n\n# 检查缺失值\nprint(\"\\n=== 缺失值检查 ===\")\nprint(\"各列缺失值统计：\")\nprint(dataset.isnull().sum())\nprint(\"\\n缺失值可视化：\")\nprint(dataset.isnull())",
   "metadata": {},
   "execution_count": null,
   "outputs": []
  },
  {
   "cell_type": "code",
   "id": "2mr8mb95gjp",
   "source": "# 缺失数据处理（Missing Data Handling）\n# 学习目标：理解如何识别和处理数据集中的缺失值\n\n# 导入必要的库\nimport pandas as pd       # 用于数据处理和分析\nimport numpy as np        # 用于数值计算\nfrom sklearn.impute import SimpleImputer  # 用于缺失值填充\n\nprint(\"=== 机器学习数据预处理：缺失数据处理 ===\")",
   "metadata": {},
   "execution_count": null,
   "outputs": []
  },
  {
   "cell_type": "code",
   "id": "initial_id",
   "metadata": {
    "collapsed": true,
    "ExecuteTime": {
     "end_time": "2025-08-31T06:51:22.748259Z",
     "start_time": "2025-08-31T06:51:22.744905Z"
    }
   },
   "source": [
    "import numpy as np\n",
    "import pandas as pd"
   ],
   "outputs": [],
   "execution_count": 17
  },
  {
   "metadata": {
    "ExecuteTime": {
     "end_time": "2025-08-31T06:51:23.106453Z",
     "start_time": "2025-08-31T06:51:23.090746Z"
    }
   },
   "cell_type": "code",
   "source": [
    "dataset = pd.read_csv('datasets/Data.csv')\n",
    "print(dataset)"
   ],
   "id": "130da60e949266bc",
   "outputs": [
    {
     "name": "stdout",
     "output_type": "stream",
     "text": [
      "   Country   Age   Salary Purchased\n",
      "0   France  44.0  72000.0        No\n",
      "1    Spain  27.0  48000.0       Yes\n",
      "2  Germany  30.0  54000.0        No\n",
      "3    Spain  38.0  61000.0        No\n",
      "4  Germany  40.0      NaN       Yes\n",
      "5   France  35.0  58000.0       Yes\n",
      "6    Spain   NaN  52000.0        No\n",
      "7   France  48.0  79000.0       Yes\n",
      "8  Germany  50.0  83000.0        No\n",
      "9   France  37.0  67000.0       Yes\n"
     ]
    }
   ],
   "execution_count": 18
  },
  {
   "metadata": {
    "ExecuteTime": {
     "end_time": "2025-08-31T06:51:23.384342Z",
     "start_time": "2025-08-31T06:51:23.379245Z"
    }
   },
   "cell_type": "code",
   "source": [
    "print(\"\\nMissing values per column:\")\n",
    "missing_values = dataset.isnull().sum()\n",
    "print(missing_values)"
   ],
   "id": "4815b20526e6d5af",
   "outputs": [
    {
     "name": "stdout",
     "output_type": "stream",
     "text": [
      "\n",
      "Missing values per column:\n",
      "Country      0\n",
      "Age          1\n",
      "Salary       1\n",
      "Purchased    0\n",
      "dtype: int64\n"
     ]
    }
   ],
   "execution_count": 19
  },
  {
   "metadata": {
    "ExecuteTime": {
     "end_time": "2025-08-31T06:51:23.789138Z",
     "start_time": "2025-08-31T06:51:23.786218Z"
    }
   },
   "cell_type": "code",
   "source": [
    "from sklearn.impute import SimpleImputer\n",
    "# Configure an instance of the SimpleImputer class\n",
    "imputer = SimpleImputer(missing_values=np.nan, strategy = 'mean')"
   ],
   "id": "108af747e1ddc7ba",
   "outputs": [],
   "execution_count": 20
  },
  {
   "metadata": {
    "ExecuteTime": {
     "end_time": "2025-08-31T06:54:02.419170Z",
     "start_time": "2025-08-31T06:54:02.367877Z"
    }
   },
   "cell_type": "code",
   "source": [
    "# 假设目标列是最后一列，特征是前面的列\n",
    "X = dataset.iloc[:, :-1].values  # 特征列\n",
    "y = dataset.iloc[:, -1].values   # 目标列\n",
    "print(\"\\nFeatures shape:\", X.shape)\n",
    "print(\"Features columns:\", X.columns.tolist())"
   ],
   "id": "294cad680d8f85a",
   "outputs": [
    {
     "name": "stdout",
     "output_type": "stream",
     "text": [
      "\n",
      "Features shape: (10, 3)\n"
     ]
    },
    {
     "ename": "AttributeError",
     "evalue": "'numpy.ndarray' object has no attribute 'columns'",
     "output_type": "error",
     "traceback": [
      "\u001b[0;31m---------------------------------------------------------------------------\u001b[0m",
      "\u001b[0;31mAttributeError\u001b[0m                            Traceback (most recent call last)",
      "Cell \u001b[0;32mIn[25], line 5\u001b[0m\n\u001b[1;32m      3\u001b[0m y \u001b[38;5;241m=\u001b[39m dataset\u001b[38;5;241m.\u001b[39miloc[:, \u001b[38;5;241m-\u001b[39m\u001b[38;5;241m1\u001b[39m]\u001b[38;5;241m.\u001b[39mvalues   \u001b[38;5;66;03m# 目标列\u001b[39;00m\n\u001b[1;32m      4\u001b[0m \u001b[38;5;28mprint\u001b[39m(\u001b[38;5;124m\"\u001b[39m\u001b[38;5;130;01m\\n\u001b[39;00m\u001b[38;5;124mFeatures shape:\u001b[39m\u001b[38;5;124m\"\u001b[39m, X\u001b[38;5;241m.\u001b[39mshape)\n\u001b[0;32m----> 5\u001b[0m \u001b[38;5;28mprint\u001b[39m(\u001b[38;5;124m\"\u001b[39m\u001b[38;5;124mFeatures columns:\u001b[39m\u001b[38;5;124m\"\u001b[39m, \u001b[43mX\u001b[49m\u001b[38;5;241;43m.\u001b[39;49m\u001b[43mcolumns\u001b[49m\u001b[38;5;241m.\u001b[39mtolist())\n",
      "\u001b[0;31mAttributeError\u001b[0m: 'numpy.ndarray' object has no attribute 'columns'"
     ]
    }
   ],
   "execution_count": 25
  },
  {
   "metadata": {
    "ExecuteTime": {
     "end_time": "2025-08-31T06:54:03.903800Z",
     "start_time": "2025-08-31T06:54:03.900798Z"
    }
   },
   "cell_type": "code",
   "source": "print(X)",
   "id": "b336771ab0e508ea",
   "outputs": [
    {
     "name": "stdout",
     "output_type": "stream",
     "text": [
      "[['France' 44.0 72000.0]\n",
      " ['Spain' 27.0 48000.0]\n",
      " ['Germany' 30.0 54000.0]\n",
      " ['Spain' 38.0 61000.0]\n",
      " ['Germany' 40.0 nan]\n",
      " ['France' 35.0 58000.0]\n",
      " ['Spain' nan 52000.0]\n",
      " ['France' 48.0 79000.0]\n",
      " ['Germany' 50.0 83000.0]\n",
      " ['France' 37.0 67000.0]]\n"
     ]
    }
   ],
   "execution_count": 26
  },
  {
   "metadata": {
    "ExecuteTime": {
     "end_time": "2025-08-31T06:54:04.622754Z",
     "start_time": "2025-08-31T06:54:04.614796Z"
    }
   },
   "cell_type": "code",
   "source": [
    "# Step 6: Fit the imputer on the DataFrame\n",
    "imputer.fit(X[:, 1:3])  # 学习这两列的统计特征（平均值）\n",
    "X[:, 1:3] = imputer.transform(X[:, 1:3])  # 应用转换，用平均值替换缺失值"
   ],
   "id": "bc98cacac69cbcf7",
   "outputs": [],
   "execution_count": 27
  },
  {
   "metadata": {
    "ExecuteTime": {
     "end_time": "2025-08-31T06:54:23.235132Z",
     "start_time": "2025-08-31T06:54:23.232336Z"
    }
   },
   "cell_type": "code",
   "source": "print(X)",
   "id": "39b6c6d408df6e89",
   "outputs": [
    {
     "name": "stdout",
     "output_type": "stream",
     "text": [
      "[['France' 44.0 72000.0]\n",
      " ['Spain' 27.0 48000.0]\n",
      " ['Germany' 30.0 54000.0]\n",
      " ['Spain' 38.0 61000.0]\n",
      " ['Germany' 40.0 63777.77777777778]\n",
      " ['France' 35.0 58000.0]\n",
      " ['Spain' 38.77777777777778 52000.0]\n",
      " ['France' 48.0 79000.0]\n",
      " ['Germany' 50.0 83000.0]\n",
      " ['France' 37.0 67000.0]]\n"
     ]
    }
   ],
   "execution_count": 28
  },
  {
   "metadata": {},
   "cell_type": "code",
   "outputs": [],
   "execution_count": null,
   "source": "",
   "id": "90a77cb6af18e766"
  }
 ],
 "metadata": {
  "kernelspec": {
   "display_name": "Python 3",
   "language": "python",
   "name": "python3"
  },
  "language_info": {
   "codemirror_mode": {
    "name": "ipython",
    "version": 2
   },
   "file_extension": ".py",
   "mimetype": "text/x-python",
   "name": "python",
   "nbconvert_exporter": "python",
   "pygments_lexer": "ipython2",
   "version": "2.7.6"
  }
 },
 "nbformat": 4,
 "nbformat_minor": 5
}